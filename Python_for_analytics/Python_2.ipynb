{
 "cells": [
  {
   "cell_type": "markdown",
   "metadata": {},
   "source": [
    "## __Control Flow __\n",
    "\n"
   ]
  },
  {
   "cell_type": "markdown",
   "metadata": {},
   "source": [
    "### __If Statement __\n",
    "\n",
    "_if statement is a conditional statement that runs or skips code based on whether a condition is true or false_\n",
    "\n"
   ]
  },
  {
   "cell_type": "code",
   "execution_count": 41,
   "metadata": {},
   "outputs": [
    {
     "name": "stdout",
     "output_type": "stream",
     "text": [
      "14\n"
     ]
    }
   ],
   "source": [
    "\n",
    "phone_balance = 4\n",
    "if phone_balance < 5:\n",
    "    phone_balance += 10\n",
    "#    bank_balance -= 10\n",
    "print(phone_balance)"
   ]
  },
  {
   "cell_type": "code",
   "execution_count": 37,
   "metadata": {},
   "outputs": [
    {
     "data": {
      "text/plain": [
       "10"
      ]
     },
     "execution_count": 37,
     "metadata": {},
     "output_type": "execute_result"
    }
   ],
   "source": [
    "phone_balance"
   ]
  },
  {
   "cell_type": "code",
   "execution_count": 2,
   "metadata": {
    "collapsed": true
   },
   "outputs": [],
   "source": [
    "salary=[100000,50000,40000,10000,25000,48000,80000,1250000]\n"
   ]
  },
  {
   "cell_type": "code",
   "execution_count": 3,
   "metadata": {},
   "outputs": [
    {
     "name": "stdout",
     "output_type": "stream",
     "text": [
      "Hike for 100000 is 100000\n",
      "Hike for 50000 is 55000\n",
      "Hike for 40000 is 44000\n",
      "Hike for 10000 is 11000\n",
      "Hike for 25000 is 27500\n",
      "Hike for 48000 is 52800\n",
      "Hike for 80000 is 88000\n",
      "Hike for 1250000 is 1250000\n"
     ]
    }
   ],
   "source": [
    "for i in salary:\n",
    "    if i > 99999:\n",
    "        print('Hike for {} is {}'.format(i,i))\n",
    "    else:\n",
    "        print('Hike for {} is {}'.format(i,int(i*1.1)))\n",
    "    "
   ]
  },
  {
   "cell_type": "code",
   "execution_count": 25,
   "metadata": {},
   "outputs": [
    {
     "name": "stdout",
     "output_type": "stream",
     "text": [
      "Enter salary:1000\n"
     ]
    }
   ],
   "source": [
    "salary=int(input('Enter salary:'))"
   ]
  },
  {
   "cell_type": "markdown",
   "metadata": {},
   "source": [
    "### __If, Elif, Else __\n",
    "\n",
    "\n"
   ]
  },
  {
   "cell_type": "code",
   "execution_count": 5,
   "metadata": {},
   "outputs": [
    {
     "name": "stdout",
     "output_type": "stream",
     "text": [
      "harvest the garden!\n"
     ]
    }
   ],
   "source": [
    "#season=['spring','summer','fall','winter']\n",
    "\n",
    "season='fall'\n",
    "\n",
    "if season == 'spring':\n",
    "    print('plant the garden!')\n",
    "elif season == 'summer':\n",
    "    print('water the garden!')\n",
    "elif season == 'fall':\n",
    "    print('harvest the garden!')\n",
    "elif season == 'winter':\n",
    "    print('stay indoors!')\n",
    "else:\n",
    "    print('unrecognized season')"
   ]
  },
  {
   "cell_type": "markdown",
   "metadata": {},
   "source": [
    "## Loops\n",
    "\n",
    "### For Loops \n",
    "\n",
    "_A for loop is used to \"iterate\", or do something repeatedly, over an iterable_                                                 \n",
    "_An iterable is an object that can return one of its elements at a time, such as strings, lists, and tuples, as well as non-sequence types, such as dictionaries and files_"
   ]
  },
  {
   "cell_type": "code",
   "execution_count": 6,
   "metadata": {},
   "outputs": [
    {
     "name": "stdout",
     "output_type": "stream",
     "text": [
      "new york city\n",
      "mountain view\n",
      "chicago\n",
      "los angeles\n",
      "Done!\n"
     ]
    }
   ],
   "source": [
    "cities = ['new york city', 'mountain view', 'chicago', 'los angeles']\n",
    "for city in cities:\n",
    "    print(city)\n",
    "print(\"Done!\")"
   ]
  },
  {
   "cell_type": "code",
   "execution_count": 7,
   "metadata": {},
   "outputs": [
    {
     "name": "stdout",
     "output_type": "stream",
     "text": [
      "Hello!\n",
      "Hello!\n",
      "Hello!\n"
     ]
    }
   ],
   "source": [
    "for i in range(3):\n",
    "    print(\"Hello!\")"
   ]
  },
  {
   "cell_type": "code",
   "execution_count": 8,
   "metadata": {
    "collapsed": true
   },
   "outputs": [],
   "source": [
    "# Creating a new list\n",
    "cities = ['new york city', 'mountain view', 'chicago', 'los angeles']\n",
    "capitalized_cities = []\n",
    "\n",
    "for city in cities:\n",
    "    capitalized_cities.append(city.title())"
   ]
  },
  {
   "cell_type": "markdown",
   "metadata": {},
   "source": [
    "\n",
    "### While Loops \n",
    "\n",
    "_This differs from \"indefinite iteration\" which is when a loop repeats an unknown number of times and ends when some condition is met, which is what happens in a while loop_"
   ]
  },
  {
   "cell_type": "code",
   "execution_count": 9,
   "metadata": {
    "collapsed": true
   },
   "outputs": [],
   "source": [
    "card_deck = [4, 11, 8, 5, 13, 2, 8, 10]\n",
    "hand = []"
   ]
  },
  {
   "cell_type": "code",
   "execution_count": 10,
   "metadata": {
    "collapsed": true
   },
   "outputs": [],
   "source": [
    "while sum(hand)  < 17:\n",
    "    hand.append(card_deck.pop())"
   ]
  },
  {
   "cell_type": "markdown",
   "metadata": {},
   "source": [
    "\n",
    "### Break, Continue \n",
    "\n",
    "_Sometimes we need more control over when a loop should end, or skip an iteration. In these cases, we use the break and continue keywords, which can be used in both for and while loops_\n",
    "\n",
    "_break terminates a loop_                                                                                                       \n",
    "_continue skips one iteration of a loop_"
   ]
  },
  {
   "cell_type": "code",
   "execution_count": 12,
   "metadata": {},
   "outputs": [
    {
     "name": "stdout",
     "output_type": "stream",
     "text": [
      "METHOD 1\n",
      "current weight: 0\n",
      "  adding bananas (15)\n",
      "current weight: 15\n",
      "  adding mattresses (24)\n",
      "current weight: 39\n",
      "  adding dog kennels (42)\n",
      "current weight: 81\n",
      "  adding machine (120)\n",
      "current weight: 201\n",
      "  breaking loop now!\n",
      "\n",
      "Final Weight: 201\n",
      "Final Items: ['bananas', 'mattresses', 'dog kennels', 'machine']\n"
     ]
    }
   ],
   "source": [
    "manifest = [(\"bananas\", 15), (\"mattresses\", 24), (\"dog kennels\", 42), (\"machine\", 120), (\"cheeses\", 5)]\n",
    "\n",
    "# the code breaks the loop when weight exceeds or reaches the limit\n",
    "print(\"METHOD 1\")\n",
    "weight = 0\n",
    "items = []\n",
    "for cargo_name, cargo_weight in manifest:\n",
    "    print(\"current weight: {}\".format(weight))\n",
    "    if weight >= 100:\n",
    "        print(\"  breaking loop now!\")\n",
    "        break\n",
    "    else:\n",
    "        print(\"  adding {} ({})\".format(cargo_name, cargo_weight))\n",
    "        items.append(cargo_name)\n",
    "        weight += cargo_weight\n",
    "\n",
    "print(\"\\nFinal Weight: {}\".format(weight))\n",
    "print(\"Final Items: {}\".format(items))"
   ]
  },
  {
   "cell_type": "markdown",
   "metadata": {},
   "source": [
    "\n",
    "### Zip and Enumerate\n",
    "\n",
    "\n",
    "_zip returns an iterator that combines multiple iterables into one sequence of tuples. Each tuple contains the elements in that position from all the iterables_"
   ]
  },
  {
   "cell_type": "code",
   "execution_count": 13,
   "metadata": {},
   "outputs": [
    {
     "name": "stdout",
     "output_type": "stream",
     "text": [
      "a: 1\n",
      "b: 2\n",
      "c: 3\n"
     ]
    }
   ],
   "source": [
    "#letters = ['a', 'b', 'c']\n",
    "#nums = [1, 2, 3]\n",
    "\n",
    "letters = ('a', 'b', 'c')\n",
    "nums = (1, 2, 3)\n",
    "\n",
    "for letter, num in zip(letters, nums):\n",
    "    print(\"{}: {}\".format(letter, num))"
   ]
  },
  {
   "cell_type": "code",
   "execution_count": 15,
   "metadata": {},
   "outputs": [
    {
     "data": {
      "text/plain": [
       "[('a', 1), ('b', 2), ('c', 3)]"
      ]
     },
     "execution_count": 15,
     "metadata": {},
     "output_type": "execute_result"
    }
   ],
   "source": [
    "list(zip(letters, nums))"
   ]
  },
  {
   "cell_type": "code",
   "execution_count": 16,
   "metadata": {},
   "outputs": [
    {
     "data": {
      "text/plain": [
       "(('a', 1), ('b', 2), ('c', 3))"
      ]
     },
     "execution_count": 16,
     "metadata": {},
     "output_type": "execute_result"
    }
   ],
   "source": [
    "tuple(zip(letters, nums))"
   ]
  },
  {
   "cell_type": "code",
   "execution_count": 15,
   "metadata": {
    "collapsed": true
   },
   "outputs": [],
   "source": [
    "# In addition to zipping two lists together, you can also unzip a list into tuples using an asterisk.\n",
    "some_list = [('a', 1), ('b', 2), ('c', 3)]\n",
    "letters, nums = zip(*some_list)"
   ]
  },
  {
   "cell_type": "markdown",
   "metadata": {},
   "source": [
    "\n",
    "### Enumerate\n",
    "\n",
    "\n",
    "_Enumerate is a built in function that returns an iterator of tuples containing indices and values of a list. You'll often use this when you want the index along with each element of an iterable in a loop_"
   ]
  },
  {
   "cell_type": "code",
   "execution_count": 16,
   "metadata": {},
   "outputs": [
    {
     "name": "stdout",
     "output_type": "stream",
     "text": [
      "0 a\n",
      "1 b\n",
      "2 c\n",
      "3 d\n",
      "4 e\n"
     ]
    }
   ],
   "source": [
    "letters = ['a', 'b', 'c', 'd', 'e']\n",
    "for i, letter in enumerate(letters):\n",
    "    print(i, letter)"
   ]
  },
  {
   "cell_type": "markdown",
   "metadata": {},
   "source": [
    "\n",
    "### List Comprehensions\n",
    "\n",
    "\n"
   ]
  },
  {
   "cell_type": "code",
   "execution_count": 4,
   "metadata": {
    "collapsed": true
   },
   "outputs": [],
   "source": [
    "# Normal way of writing\n",
    "\n",
    "cities=['Delhi','Mumbai','Chennai','Kolkata','Bangalore']\n",
    "\n",
    "capitalized_cities = []\n",
    "for city in cities:\n",
    "    capitalized_cities.append(city.title())"
   ]
  },
  {
   "cell_type": "code",
   "execution_count": 3,
   "metadata": {},
   "outputs": [
    {
     "data": {
      "text/plain": [
       "['Delhi', 'Mumbai', 'Chennai', 'Kolkata', 'Bangalore']"
      ]
     },
     "execution_count": 3,
     "metadata": {},
     "output_type": "execute_result"
    }
   ],
   "source": [
    "capitalized_cities"
   ]
  },
  {
   "cell_type": "code",
   "execution_count": 5,
   "metadata": {
    "collapsed": true
   },
   "outputs": [],
   "source": [
    "#Using List Comprehensions\n",
    "\n",
    "capitalized_cities = [city.title() for city in cities]"
   ]
  },
  {
   "cell_type": "markdown",
   "metadata": {},
   "source": [
    "\n",
    "### Conditionals in List Comprehensions\n",
    "\n",
    "\n"
   ]
  },
  {
   "cell_type": "code",
   "execution_count": 8,
   "metadata": {},
   "outputs": [
    {
     "data": {
      "text/plain": [
       "[0, 4, 16, 36, 64]"
      ]
     },
     "execution_count": 8,
     "metadata": {},
     "output_type": "execute_result"
    }
   ],
   "source": [
    "squares = [x**2 for x in range(9) if x % 2 == 0]\n",
    "\n",
    "squares"
   ]
  },
  {
   "cell_type": "code",
   "execution_count": null,
   "metadata": {
    "collapsed": true
   },
   "outputs": [],
   "source": [
    "# Was this expected\n",
    "squares = [x**2 for x in range(9) if x % 2 == 0 else x + 3]\n"
   ]
  },
  {
   "cell_type": "code",
   "execution_count": 9,
   "metadata": {},
   "outputs": [
    {
     "data": {
      "text/plain": [
       "[0, 4, 4, 6, 16, 8, 36, 10, 64]"
      ]
     },
     "execution_count": 9,
     "metadata": {},
     "output_type": "execute_result"
    }
   ],
   "source": [
    "squares = [x**2 if x % 2 == 0 else x + 3 for x in range(9)]\n",
    "squares"
   ]
  },
  {
   "cell_type": "markdown",
   "metadata": {},
   "source": [
    "\n",
    "### Functions\n",
    "\n",
    "\n"
   ]
  },
  {
   "cell_type": "code",
   "execution_count": 37,
   "metadata": {
    "collapsed": true
   },
   "outputs": [],
   "source": [
    "# Defining Functions\n",
    "def cylinder_volume(height, radius):\n",
    "    pi = 3.14159\n",
    "    return height * pi * radius ** 2"
   ]
  },
  {
   "cell_type": "code",
   "execution_count": 11,
   "metadata": {},
   "outputs": [
    {
     "data": {
      "text/plain": [
       "282.7431"
      ]
     },
     "execution_count": 11,
     "metadata": {},
     "output_type": "execute_result"
    }
   ],
   "source": [
    "# function call\n",
    "cylinder_volume(10, 3)"
   ]
  },
  {
   "cell_type": "code",
   "execution_count": 108,
   "metadata": {
    "collapsed": true
   },
   "outputs": [],
   "source": [
    "# Defining Functions\n",
    "def experience(exp):\n",
    "    \n",
    "    if exp < 3:\n",
    "        return('Employee is in junior level')\n",
    "        \n",
    "    elif exp < 6:\n",
    "        return('Employee is in Senior Role')\n",
    "    \n",
    "    elif exp < 9:\n",
    "        return('Employee is in Lead Role')\n",
    "    \n",
    "    else:\n",
    "        return('Employee is in Architect Role')\n"
   ]
  },
  {
   "cell_type": "code",
   "execution_count": 110,
   "metadata": {
    "collapsed": true
   },
   "outputs": [],
   "source": [
    "a=experience(4)"
   ]
  },
  {
   "cell_type": "code",
   "execution_count": 111,
   "metadata": {},
   "outputs": [
    {
     "data": {
      "text/plain": [
       "'Employee is in Senior Role'"
      ]
     },
     "execution_count": 111,
     "metadata": {},
     "output_type": "execute_result"
    }
   ],
   "source": [
    "a"
   ]
  },
  {
   "cell_type": "code",
   "execution_count": 116,
   "metadata": {
    "collapsed": true
   },
   "outputs": [],
   "source": [
    "# Defining Functions\n",
    "def experience(exp):\n",
    "    \n",
    "    if exp<3:\n",
    "        print('Employee is in junior level')\n",
    "        \n",
    "    elif exp < 6:\n",
    "        print('Employee is in Senior Role')\n",
    "    \n",
    "    elif exp < 9:\n",
    "        print('Employee is in Lead Role')\n",
    "    \n",
    "    else:\n",
    "        print('Employee is in Architect Role')\n"
   ]
  },
  {
   "cell_type": "code",
   "execution_count": 117,
   "metadata": {},
   "outputs": [
    {
     "name": "stdout",
     "output_type": "stream",
     "text": [
      "Employee is in Senior Role\n"
     ]
    }
   ],
   "source": [
    "a=experience(4)"
   ]
  },
  {
   "cell_type": "code",
   "execution_count": 118,
   "metadata": {
    "collapsed": true
   },
   "outputs": [],
   "source": [
    "a"
   ]
  },
  {
   "cell_type": "markdown",
   "metadata": {},
   "source": [
    "\n",
    "### Print vs Return in Functions\n",
    "\n",
    "\n"
   ]
  },
  {
   "cell_type": "code",
   "execution_count": 11,
   "metadata": {},
   "outputs": [
    {
     "data": {
      "text/plain": [
       "282.7431"
      ]
     },
     "execution_count": 11,
     "metadata": {},
     "output_type": "execute_result"
    }
   ],
   "source": [
    "# function call\n",
    "cylinder_volume(10, 3)"
   ]
  },
  {
   "cell_type": "code",
   "execution_count": 13,
   "metadata": {},
   "outputs": [
    {
     "name": "stdout",
     "output_type": "stream",
     "text": [
      "Calling show_plus_ten...\n",
      "15\n",
      "Done calling\n",
      "This function returned: None\n",
      "\n",
      "Calling add_ten...\n",
      "Done calling\n",
      "This function returned: 15\n"
     ]
    }
   ],
   "source": [
    "# this prints something, but does not return anything\n",
    "def show_plus_ten(num):\n",
    "    print(num + 10)\n",
    "\n",
    "# this returns something\n",
    "def add_ten(num):\n",
    "    return(num + 10)\n",
    "\n",
    "print('Calling show_plus_ten...')\n",
    "return_value_1 = show_plus_ten(5)\n",
    "print('Done calling')\n",
    "print('This function returned: {}'.format(return_value_1))\n",
    "\n",
    "print('\\nCalling add_ten...')\n",
    "return_value_2 = add_ten(5)\n",
    "print('Done calling')\n",
    "print('This function returned: {}'.format(return_value_2))"
   ]
  },
  {
   "cell_type": "markdown",
   "metadata": {},
   "source": [
    "## Lambda Expressions\n",
    "\n",
    "_Anonymous Functions_"
   ]
  },
  {
   "cell_type": "code",
   "execution_count": 89,
   "metadata": {
    "collapsed": true
   },
   "outputs": [],
   "source": [
    "multiply = lambda x:x**2"
   ]
  },
  {
   "cell_type": "code",
   "execution_count": 57,
   "metadata": {},
   "outputs": [
    {
     "data": {
      "text/plain": [
       "(<function __main__.<lambda>>, [1, 2, 3])"
      ]
     },
     "execution_count": 57,
     "metadata": {},
     "output_type": "execute_result"
    }
   ],
   "source": [
    "multiply"
   ]
  },
  {
   "cell_type": "code",
   "execution_count": 54,
   "metadata": {
    "collapsed": true
   },
   "outputs": [],
   "source": [
    "from functools import reduce"
   ]
  },
  {
   "cell_type": "code",
   "execution_count": 86,
   "metadata": {},
   "outputs": [
    {
     "name": "stdout",
     "output_type": "stream",
     "text": [
      "[16, 25, 36]\n",
      "[4]\n",
      "26\n"
     ]
    }
   ],
   "source": [
    "list_1=list(map(lambda x:x**2,[4,5,6]))\n",
    "\n",
    "list_2=list(filter(lambda x:x<5,[4,5,6]))\n",
    "\n",
    "list_3=reduce(lambda x,y:x+y,[4,5,6,11])\n",
    "\n",
    "print(list_1)\n",
    "print(list_2)\n",
    "print(list_3)"
   ]
  },
  {
   "cell_type": "code",
   "execution_count": 126,
   "metadata": {
    "collapsed": true
   },
   "outputs": [],
   "source": [
    "a=list(map(lambda x:x**2,[4,5,6]))\n"
   ]
  },
  {
   "cell_type": "code",
   "execution_count": 130,
   "metadata": {
    "collapsed": true
   },
   "outputs": [],
   "source": [
    "list_2=list(filter(lambda x:x<5,[4,5,6,7,1,5,8]))\n"
   ]
  },
  {
   "cell_type": "code",
   "execution_count": 131,
   "metadata": {},
   "outputs": [
    {
     "data": {
      "text/plain": [
       "[4, 1]"
      ]
     },
     "execution_count": 131,
     "metadata": {},
     "output_type": "execute_result"
    }
   ],
   "source": [
    "list_2"
   ]
  },
  {
   "cell_type": "code",
   "execution_count": 125,
   "metadata": {},
   "outputs": [
    {
     "data": {
      "text/plain": [
       "<map at 0x7a2f8c6278>"
      ]
     },
     "execution_count": 125,
     "metadata": {},
     "output_type": "execute_result"
    }
   ],
   "source": [
    "map(lambda x:x**2,[1,2,3])"
   ]
  },
  {
   "cell_type": "code",
   "execution_count": null,
   "metadata": {
    "collapsed": true
   },
   "outputs": [],
   "source": []
  },
  {
   "cell_type": "code",
   "execution_count": 88,
   "metadata": {},
   "outputs": [
    {
     "name": "stdout",
     "output_type": "stream",
     "text": [
      "<class 'list'>\n",
      "<class 'list'>\n",
      "<class 'int'>\n"
     ]
    }
   ],
   "source": [
    "print(type(list_1))\n",
    "print(type(list_2))\n",
    "print(type(list_3))"
   ]
  },
  {
   "cell_type": "code",
   "execution_count": 58,
   "metadata": {
    "collapsed": true
   },
   "outputs": [],
   "source": [
    "#a=reduce(multiply,[4,5,6])"
   ]
  }
 ],
 "metadata": {
  "anaconda-cloud": {},
  "kernelspec": {
   "display_name": "Python 3",
   "language": "python",
   "name": "python3"
  },
  "language_info": {
   "codemirror_mode": {
    "name": "ipython",
    "version": 3
   },
   "file_extension": ".py",
   "mimetype": "text/x-python",
   "name": "python",
   "nbconvert_exporter": "python",
   "pygments_lexer": "ipython3",
   "version": "3.6.3"
  }
 },
 "nbformat": 4,
 "nbformat_minor": 1
}
